{
 "cells": [
  {
   "cell_type": "markdown",
   "metadata": {
    "collapsed": true,
    "pycharm": {
     "name": "#%% md\n"
    }
   },
   "source": [
    "Data Visualization and Exploration\n",
    "CPSC 5530\n",
    "CRN 21428\n",
    "Hunter Harris: zgt795\n",
    "Assignment 3: Geospatial Visualization 1"
   ]
  },
  {
   "cell_type": "code",
   "execution_count": 114,
   "metadata": {
    "pycharm": {
     "name": "#%%\n"
    }
   },
   "outputs": [],
   "source": [
    "# Import libraries\n",
    "import pandas as pd\n",
    "import folium\n",
    "from folium.plugins import HeatMap"
   ]
  },
  {
   "cell_type": "markdown",
   "metadata": {
    "pycharm": {
     "name": "#%% md\n"
    }
   },
   "source": [
    "Read csv data"
   ]
  },
  {
   "cell_type": "code",
   "execution_count": 115,
   "metadata": {
    "pycharm": {
     "name": "#%%\n"
    }
   },
   "outputs": [],
   "source": [
    "accident_df = pd.read_csv(\"US_Accidents_Dec20_updated.csv\")"
   ]
  },
  {
   "cell_type": "markdown",
   "metadata": {
    "pycharm": {
     "name": "#%% md\n"
    }
   },
   "source": [
    "Inspect DataFrame"
   ]
  },
  {
   "cell_type": "code",
   "execution_count": 116,
   "metadata": {
    "pycharm": {
     "name": "#%%\n"
    }
   },
   "outputs": [
    {
     "name": "stdout",
     "output_type": "stream",
     "text": [
      "                ID  Severity           Start_Time             End_Time  \\\n",
      "0        A-2716600         3  2016-02-08 00:37:08  2016-02-08 06:37:08   \n",
      "1        A-2716601         2  2016-02-08 05:56:20  2016-02-08 11:56:20   \n",
      "2        A-2716602         2  2016-02-08 06:15:39  2016-02-08 12:15:39   \n",
      "3        A-2716603         2  2016-02-08 06:15:39  2016-02-08 12:15:39   \n",
      "4        A-2716604         2  2016-02-08 06:51:45  2016-02-08 12:51:45   \n",
      "...            ...       ...                  ...                  ...   \n",
      "1516059  A-4239402         2  2019-08-23 18:03:25  2019-08-23 18:32:01   \n",
      "1516060  A-4239403         2  2019-08-23 19:11:30  2019-08-23 19:38:23   \n",
      "1516061  A-4239404         2  2019-08-23 19:00:21  2019-08-23 19:28:49   \n",
      "1516062  A-4239405         2  2019-08-23 19:00:21  2019-08-23 19:29:42   \n",
      "1516063  A-4239406         2  2019-08-23 18:52:06  2019-08-23 19:21:31   \n",
      "\n",
      "         Start_Lat  Start_Lng   End_Lat    End_Lng  Distance(mi)  \\\n",
      "0         40.10891  -83.09286  40.11206  -83.03187         3.230   \n",
      "1         39.86542  -84.06280  39.86501  -84.04873         0.747   \n",
      "2         39.10266  -84.52468  39.10209  -84.52396         0.055   \n",
      "3         39.10148  -84.52341  39.09841  -84.52241         0.219   \n",
      "4         41.06213  -81.53784  41.06217  -81.53547         0.123   \n",
      "...            ...        ...       ...        ...           ...   \n",
      "1516059   34.00248 -117.37936  33.99888 -117.37094         0.543   \n",
      "1516060   32.76696 -117.14806  32.76555 -117.15363         0.338   \n",
      "1516061   33.77545 -117.84779  33.77740 -117.85727         0.561   \n",
      "1516062   33.99246 -118.40302  33.98311 -118.39565         0.772   \n",
      "1516063   34.13393 -117.23092  34.13736 -117.23934         0.537   \n",
      "\n",
      "                                               Description  ...  Roundabout  \\\n",
      "0        Between Sawmill Rd/Exit 20 and OH-315/Olentang...  ...       False   \n",
      "1                       At OH-4/OH-235/Exit 41 - Accident.  ...       False   \n",
      "2                         At I-71/US-50/Exit 1 - Accident.  ...       False   \n",
      "3                         At I-71/US-50/Exit 1 - Accident.  ...       False   \n",
      "4                          At Dart Ave/Exit 21 - Accident.  ...       False   \n",
      "...                                                    ...  ...         ...   \n",
      "1516059                           At Market St - Accident.  ...       False   \n",
      "1516060    At Camino Del Rio/Mission Center Rd - Accident.  ...       False   \n",
      "1516061  At Glassell St/Grand Ave - Accident. in the ri...  ...       False   \n",
      "1516062     At CA-90/Marina Fwy/Jefferson Blvd - Accident.  ...       False   \n",
      "1516063              At Highland Ave/Arden Ave - Accident.  ...       False   \n",
      "\n",
      "        Station   Stop Traffic_Calming Traffic_Signal Turning_Loop  \\\n",
      "0         False  False           False          False        False   \n",
      "1         False  False           False          False        False   \n",
      "2         False  False           False          False        False   \n",
      "3         False  False           False          False        False   \n",
      "4         False  False           False          False        False   \n",
      "...         ...    ...             ...            ...          ...   \n",
      "1516059   False  False           False          False        False   \n",
      "1516060   False  False           False          False        False   \n",
      "1516061   False  False           False          False        False   \n",
      "1516062   False  False           False          False        False   \n",
      "1516063   False  False           False          False        False   \n",
      "\n",
      "        Sunrise_Sunset Civil_Twilight Nautical_Twilight Astronomical_Twilight  \n",
      "0                Night          Night             Night                 Night  \n",
      "1                Night          Night             Night                 Night  \n",
      "2                Night          Night             Night                   Day  \n",
      "3                Night          Night             Night                   Day  \n",
      "4                Night          Night               Day                   Day  \n",
      "...                ...            ...               ...                   ...  \n",
      "1516059            Day            Day               Day                   Day  \n",
      "1516060            Day            Day               Day                   Day  \n",
      "1516061            Day            Day               Day                   Day  \n",
      "1516062            Day            Day               Day                   Day  \n",
      "1516063            Day            Day               Day                   Day  \n",
      "\n",
      "[1516064 rows x 47 columns]\n",
      "<class 'pandas.core.frame.DataFrame'>\n",
      "RangeIndex: 1516064 entries, 0 to 1516063\n",
      "Data columns (total 47 columns):\n",
      " #   Column                 Non-Null Count    Dtype  \n",
      "---  ------                 --------------    -----  \n",
      " 0   ID                     1516064 non-null  object \n",
      " 1   Severity               1516064 non-null  int64  \n",
      " 2   Start_Time             1516064 non-null  object \n",
      " 3   End_Time               1516064 non-null  object \n",
      " 4   Start_Lat              1516064 non-null  float64\n",
      " 5   Start_Lng              1516064 non-null  float64\n",
      " 6   End_Lat                1516064 non-null  float64\n",
      " 7   End_Lng                1516064 non-null  float64\n",
      " 8   Distance(mi)           1516064 non-null  float64\n",
      " 9   Description            1516064 non-null  object \n",
      " 10  Number                 469969 non-null   float64\n",
      " 11  Street                 1516064 non-null  object \n",
      " 12  Side                   1516064 non-null  object \n",
      " 13  City                   1515981 non-null  object \n",
      " 14  County                 1516064 non-null  object \n",
      " 15  State                  1516064 non-null  object \n",
      " 16  Zipcode                1515129 non-null  object \n",
      " 17  Country                1516064 non-null  object \n",
      " 18  Timezone               1513762 non-null  object \n",
      " 19  Airport_Code           1511816 non-null  object \n",
      " 20  Weather_Timestamp      1485800 non-null  object \n",
      " 21  Temperature(F)         1473031 non-null  float64\n",
      " 22  Wind_Chill(F)          1066748 non-null  float64\n",
      " 23  Humidity(%)            1470555 non-null  float64\n",
      " 24  Pressure(in)           1479790 non-null  float64\n",
      " 25  Visibility(mi)         1471853 non-null  float64\n",
      " 26  Wind_Direction         1474206 non-null  object \n",
      " 27  Wind_Speed(mph)        1387202 non-null  float64\n",
      " 28  Precipitation(in)      1005515 non-null  float64\n",
      " 29  Weather_Condition      1472057 non-null  object \n",
      " 30  Amenity                1516064 non-null  bool   \n",
      " 31  Bump                   1516064 non-null  bool   \n",
      " 32  Crossing               1516064 non-null  bool   \n",
      " 33  Give_Way               1516064 non-null  bool   \n",
      " 34  Junction               1516064 non-null  bool   \n",
      " 35  No_Exit                1516064 non-null  bool   \n",
      " 36  Railway                1516064 non-null  bool   \n",
      " 37  Roundabout             1516064 non-null  bool   \n",
      " 38  Station                1516064 non-null  bool   \n",
      " 39  Stop                   1516064 non-null  bool   \n",
      " 40  Traffic_Calming        1516064 non-null  bool   \n",
      " 41  Traffic_Signal         1516064 non-null  bool   \n",
      " 42  Turning_Loop           1516064 non-null  bool   \n",
      " 43  Sunrise_Sunset         1515981 non-null  object \n",
      " 44  Civil_Twilight         1515981 non-null  object \n",
      " 45  Nautical_Twilight      1515981 non-null  object \n",
      " 46  Astronomical_Twilight  1515981 non-null  object \n",
      "dtypes: bool(13), float64(13), int64(1), object(20)\n",
      "memory usage: 412.1+ MB\n",
      "None\n"
     ]
    }
   ],
   "source": [
    "print(accident_df)\n",
    "print(accident_df.info())"
   ]
  },
  {
   "cell_type": "markdown",
   "metadata": {
    "pycharm": {
     "name": "#%% md\n"
    }
   },
   "source": [
    "Clean Data"
   ]
  },
  {
   "cell_type": "code",
   "execution_count": 117,
   "metadata": {
    "pycharm": {
     "name": "#%%\n"
    }
   },
   "outputs": [
    {
     "name": "stdout",
     "output_type": "stream",
     "text": [
      "         Start_Lat  Start_Lng\n",
      "33687    35.014360 -85.251810\n",
      "33732    35.016450 -85.385490\n",
      "33859    35.008674 -85.198755\n",
      "34044    35.015919 -85.254064\n",
      "34181    35.029220 -85.311280\n",
      "...            ...        ...\n",
      "1513277  35.014610 -85.272290\n",
      "1513278  35.014460 -85.273660\n",
      "1514647  35.030840 -85.181510\n",
      "1514649  35.009818 -85.194550\n",
      "1515698  35.030000 -85.321950\n",
      "\n",
      "[3552 rows x 2 columns]\n"
     ]
    }
   ],
   "source": [
    "# Remove excess Attributes\n",
    "accident_df = accident_df[['Start_Lat','Start_Lng']]\n",
    "\n",
    "# Remove accidents outside of Chattanooga region\n",
    "accident_df = accident_df[(accident_df['Start_Lat'] < 35.123562) & (accident_df['Start_Lat'] > 34.967424)]\n",
    "accident_df = accident_df[(accident_df['Start_Lng'] < -85.042927) & (accident_df['Start_Lng'] > -85.387623)]\n",
    "print(accident_df)"
   ]
  },
  {
   "cell_type": "markdown",
   "metadata": {},
   "source": [
    "Visualize Data"
   ]
  },
  {
   "cell_type": "code",
   "execution_count": 118,
   "metadata": {
    "pycharm": {
     "name": "#%%\n"
    }
   },
   "outputs": [],
   "source": [
    "# Specify starting interactive map details\n",
    "# base_map = folium.Map(location=[35.043631, -85.309677], control_scale=True, zoom_start=15)\n",
    "\n",
    "# Plot accident coordinates as a heatmap\n",
    "# HeatMap(data=accident_df[['Start_Lat', 'Start_Lng']], radius=12, max_zoom=15).add_to(base_map)\n",
    "# base_map\n"
   ]
  }
 ],
 "metadata": {
  "kernelspec": {
   "display_name": "Python 3 (ipykernel)",
   "language": "python",
   "name": "python3"
  },
  "language_info": {
   "codemirror_mode": {
    "name": "ipython",
    "version": 3
   },
   "file_extension": ".py",
   "mimetype": "text/x-python",
   "name": "python",
   "nbconvert_exporter": "python",
   "pygments_lexer": "ipython3",
   "version": "3.10.1"
  }
 },
 "nbformat": 4,
 "nbformat_minor": 1
}